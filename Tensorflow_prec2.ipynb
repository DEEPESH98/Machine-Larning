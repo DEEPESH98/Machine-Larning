{
  "nbformat": 4,
  "nbformat_minor": 0,
  "metadata": {
    "colab": {
      "name": "Untitled52.ipynb",
      "version": "0.3.2",
      "provenance": [],
      "include_colab_link": true
    },
    "kernelspec": {
      "name": "python3",
      "display_name": "Python 3"
    }
  },
  "cells": [
    {
      "cell_type": "markdown",
      "metadata": {
        "id": "view-in-github",
        "colab_type": "text"
      },
      "source": [
        "<a href=\"https://colab.research.google.com/github/DEEPESH98/Machine-Larning/blob/master/Tensorflow_prec2.ipynb\" target=\"_parent\"><img src=\"https://colab.research.google.com/assets/colab-badge.svg\" alt=\"Open In Colab\"/></a>"
      ]
    },
    {
      "cell_type": "code",
      "metadata": {
        "id": "e1Du2wXBKt2w",
        "colab_type": "code",
        "colab": {}
      },
      "source": [
        "import tensorflow as tf"
      ],
      "execution_count": 0,
      "outputs": []
    },
    {
      "cell_type": "code",
      "metadata": {
        "id": "f0WGuEbJL8dC",
        "colab_type": "code",
        "colab": {}
      },
      "source": [
        "# Create Tensorflow object called tensor\n",
        "hello_constant = tf.constant('Hello World!')"
      ],
      "execution_count": 0,
      "outputs": []
    },
    {
      "cell_type": "code",
      "metadata": {
        "id": "dkNPnDjRpsz5",
        "colab_type": "code",
        "colab": {
          "base_uri": "https://localhost:8080/",
          "height": 34
        },
        "outputId": "beba50a7-78d1-412e-e111-e4f8c0a21f70"
      },
      "source": [
        "hello_constant"
      ],
      "execution_count": 3,
      "outputs": [
        {
          "output_type": "execute_result",
          "data": {
            "text/plain": [
              "<tf.Tensor 'Const:0' shape=() dtype=string>"
            ]
          },
          "metadata": {
            "tags": []
          },
          "execution_count": 3
        }
      ]
    },
    {
      "cell_type": "code",
      "metadata": {
        "id": "fe48RnLapvCq",
        "colab_type": "code",
        "colab": {}
      },
      "source": [
        "#Tensorflow Session()  is a running part"
      ],
      "execution_count": 0,
      "outputs": []
    },
    {
      "cell_type": "code",
      "metadata": {
        "id": "PreF4lygp2J4",
        "colab_type": "code",
        "colab": {
          "base_uri": "https://localhost:8080/",
          "height": 34
        },
        "outputId": "b586c419-a1fc-40c8-d8c6-c8c9bd6c3cfe"
      },
      "source": [
        "with tf.Session() as sess:\n",
        "  # run the tf.contaant operation in the session\n",
        "  output = sess.run(hello_constant) # decode()\n",
        "  print(output)"
      ],
      "execution_count": 6,
      "outputs": [
        {
          "output_type": "stream",
          "text": [
            "b'Hello World!'\n"
          ],
          "name": "stdout"
        }
      ]
    },
    {
      "cell_type": "code",
      "metadata": {
        "id": "nttmE-XsqMAt",
        "colab_type": "code",
        "colab": {
          "base_uri": "https://localhost:8080/",
          "height": 34
        },
        "outputId": "73122a80-adaf-4c7c-d960-e85cc64d43bb"
      },
      "source": [
        "'''three type of data \n",
        "1. constant\n",
        "2. Placeholder\n",
        "3. variable\n",
        "'''"
      ],
      "execution_count": 7,
      "outputs": [
        {
          "output_type": "execute_result",
          "data": {
            "text/plain": [
              "'three type of data \\n1. constant\\n2. Placeholder\\n3. variable\\n'"
            ]
          },
          "metadata": {
            "tags": []
          },
          "execution_count": 7
        }
      ]
    },
    {
      "cell_type": "code",
      "metadata": {
        "id": "UbsimDw_qxHM",
        "colab_type": "code",
        "colab": {
          "base_uri": "https://localhost:8080/",
          "height": 34
        },
        "outputId": "498ccc5a-1cb9-43ea-95cd-45663edbfa9c"
      },
      "source": [
        "# Check version of the tensorflow\n",
        "print(tf.__version__)"
      ],
      "execution_count": 8,
      "outputs": [
        {
          "output_type": "stream",
          "text": [
            "1.14.0\n"
          ],
          "name": "stdout"
        }
      ]
    },
    {
      "cell_type": "code",
      "metadata": {
        "id": "UBgZBK0GrA5d",
        "colab_type": "code",
        "colab": {
          "base_uri": "https://localhost:8080/",
          "height": 54
        },
        "outputId": "206c0c80-b9eb-47e8-d772-08ab5ec56fbb"
      },
      "source": [
        "# initiate tensorflow constant\n",
        "node1=tf.constant(3.0,tf.float32)\n",
        "node2 = tf.constant(4.0) # also tf.float32 implicitly\n",
        "print(node1,node2)"
      ],
      "execution_count": 11,
      "outputs": [
        {
          "output_type": "stream",
          "text": [
            "Tensor(\"Const_5:0\", shape=(), dtype=float32) Tensor(\"Const_6:0\", shape=(), dtype=float32)\n"
          ],
          "name": "stdout"
        }
      ]
    },
    {
      "cell_type": "code",
      "metadata": {
        "id": "9aKaRn9TtgVp",
        "colab_type": "code",
        "colab": {
          "base_uri": "https://localhost:8080/",
          "height": 34
        },
        "outputId": "4ef2d0ae-49c9-4c1c-d4d7-d5e343215264"
      },
      "source": [
        "sess =tf.Session()\n",
        "print(sess.run([node1,node2]))\n",
        "sess.close()"
      ],
      "execution_count": 12,
      "outputs": [
        {
          "output_type": "stream",
          "text": [
            "[3.0, 4.0]\n"
          ],
          "name": "stdout"
        }
      ]
    },
    {
      "cell_type": "code",
      "metadata": {
        "id": "jFhzBOZNuILL",
        "colab_type": "code",
        "colab": {}
      },
      "source": [
        "# Example: multiple two constant"
      ],
      "execution_count": 0,
      "outputs": []
    },
    {
      "cell_type": "code",
      "metadata": {
        "id": "tKHDWDBFuSMa",
        "colab_type": "code",
        "colab": {
          "base_uri": "https://localhost:8080/",
          "height": 34
        },
        "outputId": "aeaf1e72-9c01-4673-b27d-39992c68cc73"
      },
      "source": [
        "a = tf.constant(4.0)\n",
        "b = tf.constant(6.0)\n",
        "c=a*b\n",
        "c"
      ],
      "execution_count": 16,
      "outputs": [
        {
          "output_type": "execute_result",
          "data": {
            "text/plain": [
              "<tf.Tensor 'mul_1:0' shape=() dtype=float32>"
            ]
          },
          "metadata": {
            "tags": []
          },
          "execution_count": 16
        }
      ]
    },
    {
      "cell_type": "code",
      "metadata": {
        "id": "LNbeokTqugnk",
        "colab_type": "code",
        "colab": {
          "base_uri": "https://localhost:8080/",
          "height": 34
        },
        "outputId": "c79fc71b-e297-49c2-ba48-36d6199b31b7"
      },
      "source": [
        "# evaluate the tensor\n",
        "sess = tf.Session()\n",
        "print(sess.run(c))\n",
        "sess.close()\n"
      ],
      "execution_count": 22,
      "outputs": [
        {
          "output_type": "stream",
          "text": [
            "24.0\n"
          ],
          "name": "stdout"
        }
      ]
    },
    {
      "cell_type": "code",
      "metadata": {
        "id": "i9gmMj0yu-_E",
        "colab_type": "code",
        "colab": {}
      },
      "source": [
        "# Tensorflow placeholder"
      ],
      "execution_count": 0,
      "outputs": []
    },
    {
      "cell_type": "code",
      "metadata": {
        "id": "828aNig1wUBf",
        "colab_type": "code",
        "colab": {}
      },
      "source": [
        "import tensorflow as tf\n",
        "\n",
        "a = tf.placeholder(tf.float32)\n",
        "b = tf.placeholder(tf.float32)\n",
        "\n",
        "adder_node=a+b\n",
        "sess=tf.Session()\n",
        "#print(sess.run(adder_node,feed_dict={a:[1,2,3], b:[2,3,4]}))"
      ],
      "execution_count": 0,
      "outputs": []
    },
    {
      "cell_type": "code",
      "metadata": {
        "id": "0GJhN7mNwzgj",
        "colab_type": "code",
        "colab": {
          "base_uri": "https://localhost:8080/",
          "height": 34
        },
        "outputId": "c98b7802-fc5e-4f5a-cf7f-df45d9d991c7"
      },
      "source": [
        "print(sess.run(adder_node,feed_dict={a:[1,2,3], b:[2,3,4]}))"
      ],
      "execution_count": 33,
      "outputs": [
        {
          "output_type": "stream",
          "text": [
            "[3. 5. 7.]\n"
          ],
          "name": "stdout"
        }
      ]
    },
    {
      "cell_type": "code",
      "metadata": {
        "id": "qidHI307w_i4",
        "colab_type": "code",
        "colab": {
          "base_uri": "https://localhost:8080/",
          "height": 70
        },
        "outputId": "d1065877-ed6f-4d96-f056-9aea3e4a20d6"
      },
      "source": [
        "# Do another calculation\n",
        "Mult_5 = adder_node*5\n",
        "#print(sess.run(Mult_5,{a:[[1,2,3],[2,3,4],[3,2,1]],b: [[2,3,4],[4,3,2],[1,2,3]]}))"
      ],
      "execution_count": 35,
      "outputs": [
        {
          "output_type": "stream",
          "text": [
            "[[15. 25. 35.]\n",
            " [30. 30. 30.]\n",
            " [20. 20. 20.]]\n"
          ],
          "name": "stdout"
        }
      ]
    },
    {
      "cell_type": "code",
      "metadata": {
        "id": "X9K7KXhnyJrQ",
        "colab_type": "code",
        "colab": {}
      },
      "source": [
        "# Tensorflow variable\n",
        "# Variable allow us to add trainable prameters to graph\n",
        "# y = .2 + .3*x"
      ],
      "execution_count": 0,
      "outputs": []
    },
    {
      "cell_type": "code",
      "metadata": {
        "id": "Rn6R0d1mymqD",
        "colab_type": "code",
        "colab": {}
      },
      "source": [
        "import tensorflow as tf"
      ],
      "execution_count": 0,
      "outputs": []
    },
    {
      "cell_type": "code",
      "metadata": {
        "id": "HQyG1nNk1uYw",
        "colab_type": "code",
        "colab": {
          "base_uri": "https://localhost:8080/",
          "height": 34
        },
        "outputId": "540579a8-a162-466e-d77e-1e0633426414"
      },
      "source": [
        "w1 = tf.Variable([.5], tf.float32)\n",
        "# important: need to run below code to initialize the variable()\n",
        "init = tf.global_variables_initializer()\n",
        "sess=tf.Session()\n",
        "sess.run(init)\n",
        "print(sess.run(w1))\n",
        "sess.close()"
      ],
      "execution_count": 48,
      "outputs": [
        {
          "output_type": "stream",
          "text": [
            "[0.5]\n"
          ],
          "name": "stdout"
        }
      ]
    },
    {
      "cell_type": "code",
      "metadata": {
        "id": "TR8W9nw22Nhl",
        "colab_type": "code",
        "colab": {}
      },
      "source": [
        "# y = b+ w*x\n",
        "w = tf.Variable([.3], tf.float32)\n",
        "b = tf.Variable([-.9], tf.float32)\n",
        "x = tf.placeholder(tf.float32)\n",
        "\n",
        "linear_model = w*x +b\n",
        "init = tf.global_variables_initializer()\n",
        "sess=tf.Session()\n",
        "sess.run(init)\n",
        "#print(sess.run(linear_model,{x:[1,2,3,4,5,6,7]}))\n",
        "#sess.close()\n"
      ],
      "execution_count": 0,
      "outputs": []
    },
    {
      "cell_type": "code",
      "metadata": {
        "id": "I41Xv84T3NB6",
        "colab_type": "code",
        "colab": {
          "base_uri": "https://localhost:8080/",
          "height": 52
        },
        "outputId": "9364d53a-93b9-4d07-9fc6-08b602efdfc5"
      },
      "source": [
        "print(sess.run(linear_model,{x:[1,2,3,4,5,6,7]}))\n",
        "sess.close()"
      ],
      "execution_count": 56,
      "outputs": [
        {
          "output_type": "stream",
          "text": [
            "[-5.9999996e-01 -2.9999995e-01  5.9604645e-08  3.0000007e-01\n",
            "  6.0000002e-01  9.0000010e-01  1.2000002e+00]\n"
          ],
          "name": "stdout"
        }
      ]
    },
    {
      "cell_type": "code",
      "metadata": {
        "id": "48m44ib63zkg",
        "colab_type": "code",
        "colab": {}
      },
      "source": [
        "#Tensorflow Math"
      ],
      "execution_count": 0,
      "outputs": []
    },
    {
      "cell_type": "code",
      "metadata": {
        "id": "Wytar-Xi5A7K",
        "colab_type": "code",
        "colab": {}
      },
      "source": [
        "x = tf.add(5,2)"
      ],
      "execution_count": 0,
      "outputs": []
    },
    {
      "cell_type": "code",
      "metadata": {
        "id": "DUAvNTnT5Dwn",
        "colab_type": "code",
        "colab": {
          "base_uri": "https://localhost:8080/",
          "height": 34
        },
        "outputId": "52626a13-b851-45ad-aef5-1480f0dfc9ac"
      },
      "source": [
        "x"
      ],
      "execution_count": 59,
      "outputs": [
        {
          "output_type": "execute_result",
          "data": {
            "text/plain": [
              "<tf.Tensor 'Add_9:0' shape=() dtype=int32>"
            ]
          },
          "metadata": {
            "tags": []
          },
          "execution_count": 59
        }
      ]
    },
    {
      "cell_type": "code",
      "metadata": {
        "id": "LKZrhQH_5ET9",
        "colab_type": "code",
        "colab": {}
      },
      "source": [
        "y=tf.subtract(10,4)"
      ],
      "execution_count": 0,
      "outputs": []
    },
    {
      "cell_type": "code",
      "metadata": {
        "id": "c-_0uqsj5Qvo",
        "colab_type": "code",
        "colab": {}
      },
      "source": [
        "z=tf.multiply(2,5)"
      ],
      "execution_count": 0,
      "outputs": []
    },
    {
      "cell_type": "code",
      "metadata": {
        "id": "2ZtwKThj5ZL_",
        "colab_type": "code",
        "colab": {}
      },
      "source": [
        "#Converting data type"
      ],
      "execution_count": 0,
      "outputs": []
    },
    {
      "cell_type": "code",
      "metadata": {
        "id": "ZTGkkRpW5iVS",
        "colab_type": "code",
        "colab": {
          "base_uri": "https://localhost:8080/",
          "height": 34
        },
        "outputId": "8a51b00a-4dc3-4090-9c7b-176aa8dab2d6"
      },
      "source": [
        "with tf.Session() as sess:\n",
        "  print(sess.run(tf.subtract(tf.cast(tf.constant(2.0),tf.int32),tf.constant(1)))) "
      ],
      "execution_count": 66,
      "outputs": [
        {
          "output_type": "stream",
          "text": [
            "1\n"
          ],
          "name": "stdout"
        }
      ]
    },
    {
      "cell_type": "code",
      "metadata": {
        "id": "UeBtOO8J557r",
        "colab_type": "code",
        "colab": {}
      },
      "source": [
        ""
      ],
      "execution_count": 0,
      "outputs": []
    },
    {
      "cell_type": "code",
      "metadata": {
        "id": "_uHTqmgU6Bxz",
        "colab_type": "code",
        "colab": {}
      },
      "source": [
        ""
      ],
      "execution_count": 0,
      "outputs": []
    }
  ]
}