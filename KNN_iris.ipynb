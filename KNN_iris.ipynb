{
  "nbformat": 4,
  "nbformat_minor": 0,
  "metadata": {
    "colab": {
      "name": "Untitled15.ipynb",
      "version": "0.3.2",
      "provenance": [],
      "include_colab_link": true
    },
    "kernelspec": {
      "name": "python3",
      "display_name": "Python 3"
    }
  },
  "cells": [
    {
      "cell_type": "markdown",
      "metadata": {
        "id": "view-in-github",
        "colab_type": "text"
      },
      "source": [
        "<a href=\"https://colab.research.google.com/github/DEEPESH98/Machine-Larning/blob/master/KNN_iris.ipynb\" target=\"_parent\"><img src=\"https://colab.research.google.com/assets/colab-badge.svg\" alt=\"Open In Colab\"/></a>"
      ]
    },
    {
      "cell_type": "code",
      "metadata": {
        "id": "ZFlEowx0WfXP",
        "colab_type": "code",
        "colab": {}
      },
      "source": [
        "#loading iris data set\n",
        "from sklearn.datasets import load_iris"
      ],
      "execution_count": 0,
      "outputs": []
    },
    {
      "cell_type": "code",
      "metadata": {
        "id": "I5feIMt3gSdh",
        "colab_type": "code",
        "colab": {}
      },
      "source": [
        "#loading into a variable\n",
        "iris_data=load_iris()"
      ],
      "execution_count": 0,
      "outputs": []
    },
    {
      "cell_type": "code",
      "metadata": {
        "id": "Z0pip-3-gbIZ",
        "colab_type": "code",
        "outputId": "35ab157f-bf0a-49f7-98ef-19574e07632c",
        "colab": {
          "base_uri": "https://localhost:8080/",
          "height": 34
        }
      },
      "source": [
        "# describing iris data internally\n",
        "dir(iris_data)"
      ],
      "execution_count": 0,
      "outputs": [
        {
          "output_type": "execute_result",
          "data": {
            "text/plain": [
              "['DESCR', 'data', 'feature_names', 'filename', 'target', 'target_names']"
            ]
          },
          "metadata": {
            "tags": []
          },
          "execution_count": 3
        }
      ]
    },
    {
      "cell_type": "code",
      "metadata": {
        "id": "HyG1AkAvgjMB",
        "colab_type": "code",
        "outputId": "d5c8f030-e610-4d2c-b14a-8e0513961904",
        "colab": {
          "base_uri": "https://localhost:8080/",
          "height": 34
        }
      },
      "source": [
        "# target output values --\n",
        "iris_data.target_names"
      ],
      "execution_count": 0,
      "outputs": [
        {
          "output_type": "execute_result",
          "data": {
            "text/plain": [
              "array(['setosa', 'versicolor', 'virginica'], dtype='<U10')"
            ]
          },
          "metadata": {
            "tags": []
          },
          "execution_count": 4
        }
      ]
    },
    {
      "cell_type": "code",
      "metadata": {
        "id": "9PnDBfIYgwCf",
        "colab_type": "code",
        "outputId": "fd64f7f1-7e16-444c-8d63-4e68833b4961",
        "colab": {
          "base_uri": "https://localhost:8080/",
          "height": 87
        }
      },
      "source": [
        "# now attributes of features of given data\n",
        "iris_data.feature_names"
      ],
      "execution_count": 0,
      "outputs": [
        {
          "output_type": "execute_result",
          "data": {
            "text/plain": [
              "['sepal length (cm)',\n",
              " 'sepal width (cm)',\n",
              " 'petal length (cm)',\n",
              " 'petal width (cm)']"
            ]
          },
          "metadata": {
            "tags": []
          },
          "execution_count": 5
        }
      ]
    },
    {
      "cell_type": "code",
      "metadata": {
        "id": "JKGAKE0Zg6Q8",
        "colab_type": "code",
        "colab": {}
      },
      "source": [
        "# data with attributes\n",
        "iris_features=iris_data.data"
      ],
      "execution_count": 0,
      "outputs": []
    },
    {
      "cell_type": "code",
      "metadata": {
        "id": "HPo5_byLhKJF",
        "colab_type": "code",
        "colab": {}
      },
      "source": [
        "# extracting lable as per features\n",
        "\n",
        "label = iris_data.target"
      ],
      "execution_count": 0,
      "outputs": []
    },
    {
      "cell_type": "code",
      "metadata": {
        "id": "cccXwvc-hWfE",
        "colab_type": "code",
        "colab": {}
      },
      "source": [
        "#Showing graphs\n",
        "#put your code for graphs"
      ],
      "execution_count": 0,
      "outputs": []
    },
    {
      "cell_type": "code",
      "metadata": {
        "id": "DUgtdIU2hifD",
        "colab_type": "code",
        "colab": {}
      },
      "source": [
        "# seprating data into training and testing\n",
        "from sklearn.model_selection import train_test_split\n"
      ],
      "execution_count": 0,
      "outputs": []
    },
    {
      "cell_type": "code",
      "metadata": {
        "id": "Qv0Hfdtth_Fs",
        "colab_type": "code",
        "colab": {}
      },
      "source": [
        "#help(traipn_test_split)\n",
        "train_data,test_data,train_label,test_label=train_test_split(iris_features,label,test_size=0.2)"
      ],
      "execution_count": 0,
      "outputs": []
    },
    {
      "cell_type": "code",
      "metadata": {
        "id": "IIDht82VikCh",
        "colab_type": "code",
        "colab": {}
      },
      "source": [
        "#importing KNN clf\n",
        "from sklearn.neighbors import KNeighborsClassifier"
      ],
      "execution_count": 0,
      "outputs": []
    },
    {
      "cell_type": "code",
      "metadata": {
        "id": "gra6uvLdkWKm",
        "colab_type": "code",
        "colab": {}
      },
      "source": [
        "# now calling KNN\n",
        "kclf = KNeighborsClassifier(n_neighbors=5) # this is by default value of k"
      ],
      "execution_count": 0,
      "outputs": []
    },
    {
      "cell_type": "code",
      "metadata": {
        "id": "W6NZUrXdkxXT",
        "colab_type": "code",
        "colab": {}
      },
      "source": [
        "# appling train data\n",
        "ktrained=kclf.fit(train_data,train_label)"
      ],
      "execution_count": 0,
      "outputs": []
    },
    {
      "cell_type": "code",
      "metadata": {
        "id": "mk8rQ_lQlK75",
        "colab_type": "code",
        "colab": {}
      },
      "source": [
        "# now time for prediction\n",
        "predict_output=ktrained.predict(test_data)"
      ],
      "execution_count": 0,
      "outputs": []
    },
    {
      "cell_type": "code",
      "metadata": {
        "id": "b6Hf7g3blfEq",
        "colab_type": "code",
        "outputId": "17a03dba-12a4-480b-c758-498a1bd81dad",
        "colab": {
          "base_uri": "https://localhost:8080/",
          "height": 52
        }
      },
      "source": [
        "predict_output\n"
      ],
      "execution_count": 0,
      "outputs": [
        {
          "output_type": "execute_result",
          "data": {
            "text/plain": [
              "array([1, 2, 1, 1, 1, 0, 0, 1, 0, 1, 1, 0, 1, 0, 0, 2, 0, 0, 2, 2, 0, 0,\n",
              "       0, 0, 0, 1, 0, 1, 2, 1])"
            ]
          },
          "metadata": {
            "tags": []
          },
          "execution_count": 17
        }
      ]
    },
    {
      "cell_type": "code",
      "metadata": {
        "id": "FLwHFupQliHq",
        "colab_type": "code",
        "outputId": "d0dffd09-d1ea-4341-c571-3275277d6648",
        "colab": {
          "base_uri": "https://localhost:8080/",
          "height": 52
        }
      },
      "source": [
        "test_label"
      ],
      "execution_count": 0,
      "outputs": [
        {
          "output_type": "execute_result",
          "data": {
            "text/plain": [
              "array([1, 2, 1, 1, 1, 0, 0, 1, 0, 1, 1, 0, 1, 0, 0, 2, 0, 0, 2, 2, 0, 0,\n",
              "       0, 0, 0, 1, 0, 2, 2, 1])"
            ]
          },
          "metadata": {
            "tags": []
          },
          "execution_count": 18
        }
      ]
    },
    {
      "cell_type": "code",
      "metadata": {
        "id": "_NQeasCDlkBS",
        "colab_type": "code",
        "colab": {}
      },
      "source": [
        "# calculating accurancy score\n",
        "from sklearn.metrics import accuracy_score"
      ],
      "execution_count": 0,
      "outputs": []
    },
    {
      "cell_type": "code",
      "metadata": {
        "id": "Ok7gVGq9luNT",
        "colab_type": "code",
        "colab": {}
      },
      "source": [
        "acrknn = accuracy_score(test_label,predict_output)"
      ],
      "execution_count": 0,
      "outputs": []
    },
    {
      "cell_type": "code",
      "metadata": {
        "id": "4Samg57SlzQj",
        "colab_type": "code",
        "outputId": "29669403-3fc1-4cbc-a414-6a934a27113b",
        "colab": {
          "base_uri": "https://localhost:8080/",
          "height": 34
        }
      },
      "source": [
        "acrknn"
      ],
      "execution_count": 0,
      "outputs": [
        {
          "output_type": "execute_result",
          "data": {
            "text/plain": [
              "0.9666666666666667"
            ]
          },
          "metadata": {
            "tags": []
          },
          "execution_count": 22
        }
      ]
    },
    {
      "cell_type": "code",
      "metadata": {
        "id": "NIusNVBsl6cX",
        "colab_type": "code",
        "colab": {}
      },
      "source": [
        "# calling decision tree clf\n",
        "from sklearn.tree import DecisionTreeClassifier\n",
        "dclf= DecisionTreeClassifier()"
      ],
      "execution_count": 0,
      "outputs": []
    },
    {
      "cell_type": "code",
      "metadata": {
        "id": "JsBvEH79mzGC",
        "colab_type": "code",
        "colab": {}
      },
      "source": [
        "# training decisition tree\n",
        "dtrained=dclf.fit(train_data,train_label)"
      ],
      "execution_count": 0,
      "outputs": []
    },
    {
      "cell_type": "code",
      "metadata": {
        "id": "LBTNjSJXma7w",
        "colab_type": "code",
        "colab": {}
      },
      "source": [
        "#  now predicting\n",
        "dprediction=dtrained.predict(test_data)"
      ],
      "execution_count": 0,
      "outputs": []
    },
    {
      "cell_type": "code",
      "metadata": {
        "id": "D-hrhAWtmq2x",
        "colab_type": "code",
        "colab": {}
      },
      "source": [
        "# now accurancy for decision\n",
        "dar = accuracy_score(test_label,dprediction)"
      ],
      "execution_count": 0,
      "outputs": []
    },
    {
      "cell_type": "code",
      "metadata": {
        "id": "yE8c4P5Arcxl",
        "colab_type": "code",
        "outputId": "e9410d29-87ad-448d-de33-5697ead4b337",
        "colab": {
          "base_uri": "https://localhost:8080/",
          "height": 34
        }
      },
      "source": [
        "dar"
      ],
      "execution_count": 0,
      "outputs": [
        {
          "output_type": "execute_result",
          "data": {
            "text/plain": [
              "0.9333333333333333"
            ]
          },
          "metadata": {
            "tags": []
          },
          "execution_count": 28
        }
      ]
    },
    {
      "cell_type": "code",
      "metadata": {
        "id": "Eh-dFRQ3rd4Z",
        "colab_type": "code",
        "colab": {}
      },
      "source": [
        "# comparen deisition and KNN\n",
        "from matplotlib import pyplot as plt"
      ],
      "execution_count": 0,
      "outputs": []
    }
  ]
}