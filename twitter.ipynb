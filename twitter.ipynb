{
  "nbformat": 4,
  "nbformat_minor": 0,
  "metadata": {
    "colab": {
      "name": "Untitled50.ipynb",
      "version": "0.3.2",
      "provenance": [],
      "include_colab_link": true
    },
    "kernelspec": {
      "name": "python3",
      "display_name": "Python 3"
    }
  },
  "cells": [
    {
      "cell_type": "markdown",
      "metadata": {
        "id": "view-in-github",
        "colab_type": "text"
      },
      "source": [
        "<a href=\"https://colab.research.google.com/github/DEEPESH98/Machine-Larning/blob/master/twitter.ipynb\" target=\"_parent\"><img src=\"https://colab.research.google.com/assets/colab-badge.svg\" alt=\"Open In Colab\"/></a>"
      ]
    },
    {
      "cell_type": "code",
      "metadata": {
        "id": "ZuzhCXyDJEf_",
        "colab_type": "code",
        "colab": {}
      },
      "source": [
        "import tweepy\n",
        "import matplotlib.pyplot as plt\n",
        "from  textblob import TextBlob \n",
        "import time"
      ],
      "execution_count": 0,
      "outputs": []
    },
    {
      "cell_type": "code",
      "metadata": {
        "id": "DeBsK3BLI1X5",
        "colab_type": "code",
        "colab": {}
      },
      "source": [
        "# all 4 authentication keys to access twitter API\n",
        "# to connect as OAth handler or jump serever / revers proxy server\n",
        "consumer_key = \"your twitter\"\n",
        "consumer_sec = \"your twitter\"\n",
        "\n",
        "# from proxy server we need to connect\n",
        "access_token = \"your twitter\"\n",
        "access_token_sec = \"your twitter\"\n"
      ],
      "execution_count": 0,
      "outputs": []
    },
    {
      "cell_type": "code",
      "metadata": {
        "id": "sJWQZUDoMMFU",
        "colab_type": "code",
        "colab": {
          "base_uri": "https://localhost:8080/",
          "height": 743
        },
        "outputId": "2c16ccab-611b-4d3b-c624-7ee8bdc5d683"
      },
      "source": [
        "# tweepy explore\n",
        "dir(tweepy)"
      ],
      "execution_count": 31,
      "outputs": [
        {
          "output_type": "execute_result",
          "data": {
            "text/plain": [
              "['API',\n",
              " 'AppAuthHandler',\n",
              " 'Cache',\n",
              " 'Category',\n",
              " 'Cursor',\n",
              " 'DirectMessage',\n",
              " 'FileCache',\n",
              " 'Friendship',\n",
              " 'MemoryCache',\n",
              " 'ModelFactory',\n",
              " 'OAuthHandler',\n",
              " 'RateLimitError',\n",
              " 'SavedSearch',\n",
              " 'SearchResults',\n",
              " 'Status',\n",
              " 'Stream',\n",
              " 'StreamListener',\n",
              " 'TweepError',\n",
              " 'User',\n",
              " '__author__',\n",
              " '__builtins__',\n",
              " '__cached__',\n",
              " '__doc__',\n",
              " '__file__',\n",
              " '__license__',\n",
              " '__loader__',\n",
              " '__name__',\n",
              " '__package__',\n",
              " '__path__',\n",
              " '__spec__',\n",
              " '__version__',\n",
              " 'api',\n",
              " 'auth',\n",
              " 'binder',\n",
              " 'cache',\n",
              " 'cursor',\n",
              " 'debug',\n",
              " 'error',\n",
              " 'models',\n",
              " 'parsers',\n",
              " 'streaming',\n",
              " 'utils']"
            ]
          },
          "metadata": {
            "tags": []
          },
          "execution_count": 31
        }
      ]
    },
    {
      "cell_type": "code",
      "metadata": {
        "id": "8zLkwJdoOeBQ",
        "colab_type": "code",
        "colab": {}
      },
      "source": [
        "# connected to jump server of twitter\n",
        "auth=tweepy.OAuthHandler(consumer_key,consumer_sec)"
      ],
      "execution_count": 0,
      "outputs": []
    },
    {
      "cell_type": "code",
      "metadata": {
        "id": "Txf28H4CO76C",
        "colab_type": "code",
        "colab": {}
      },
      "source": [
        "# now we can connect from jump server to web server of twitter\n",
        "auth.set_access_token(access_token,access_token_sec)"
      ],
      "execution_count": 0,
      "outputs": []
    },
    {
      "cell_type": "code",
      "metadata": {
        "id": "kSx0EjJDPPKY",
        "colab_type": "code",
        "colab": {}
      },
      "source": [
        "# now we can connect to API storge server of twitter\n",
        "api_connect=tweepy.API(auth)"
      ],
      "execution_count": 0,
      "outputs": []
    },
    {
      "cell_type": "code",
      "metadata": {
        "id": "lB7agrsuPckx",
        "colab_type": "code",
        "colab": {}
      },
      "source": [
        "# now you can search any topic on twitter\n",
        "tweet_data=api_connect.search('pakistan',count=100)"
      ],
      "execution_count": 0,
      "outputs": []
    },
    {
      "cell_type": "code",
      "metadata": {
        "id": "CPboqiqWPoYt",
        "colab_type": "code",
        "colab": {}
      },
      "source": [
        "pos=0\n",
        "neg=0\n",
        "neu=0\n",
        "\n",
        "# printing line by line\n",
        "for tweet in tweet_data:\n",
        "   #print(tweet.text)\n",
        "   analysis=TextBlob(tweet.text) # here it will apply NLP\\\n",
        "   print(analysis.sentiment)\n",
        "   # now checking polarity only\n",
        "   if analysis.sentiment.polarity > 0:\n",
        "      print(\"posative\")\n",
        "      pos=pos+1\n",
        "   elif analysis.sentiment.polarity == 0 :\n",
        "      print(\"Neutral\")\n",
        "      neu=neu+1\n",
        "   else :\n",
        "      print(\"Negative\")\n",
        "      neg=neg+1\n",
        "      \n",
        "# ploting graphs\n",
        "plt.xlabel(\"tags\")\n",
        "plt.ylabel(\"polarity\")\n",
        "#plt.bar(['pos','neg','neu'],[pos,neg,neu])\n",
        "plt.pie([pos,neg,neu],labels=['pos','neg','neu'],autopct=\"%1.1f%%\")\n",
        "plt.show()"
      ],
      "execution_count": 0,
      "outputs": []
    },
    {
      "cell_type": "code",
      "metadata": {
        "id": "3xUmbslpQVmr",
        "colab_type": "code",
        "colab": {}
      },
      "source": [
        ""
      ],
      "execution_count": 0,
      "outputs": []
    }
  ]
}