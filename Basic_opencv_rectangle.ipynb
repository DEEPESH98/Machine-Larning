{
  "nbformat": 4,
  "nbformat_minor": 0,
  "metadata": {
    "colab": {
      "name": "Untitled37.ipynb",
      "version": "0.3.2",
      "provenance": [],
      "include_colab_link": true
    },
    "kernelspec": {
      "name": "python3",
      "display_name": "Python 3"
    }
  },
  "cells": [
    {
      "cell_type": "markdown",
      "metadata": {
        "id": "view-in-github",
        "colab_type": "text"
      },
      "source": [
        "<a href=\"https://colab.research.google.com/github/DEEPESH98/Machine-Larning/blob/master/Basic_opencv_rectangle.ipynb\" target=\"_parent\"><img src=\"https://colab.research.google.com/assets/colab-badge.svg\" alt=\"Open In Colab\"/></a>"
      ]
    },
    {
      "cell_type": "code",
      "metadata": {
        "id": "kylT8Upov_yL",
        "colab_type": "code",
        "colab": {}
      },
      "source": [
        "import cv2\n",
        "from google.colab.patches import cv2_imshow\n",
        "import matplotlib.pyplot as plt\n",
        "import numpy as np"
      ],
      "execution_count": 0,
      "outputs": []
    },
    {
      "cell_type": "code",
      "metadata": {
        "id": "R55EluKdwFjb",
        "colab_type": "code",
        "outputId": "3f88807e-0c13-4fe7-d2c2-0409a3eb13fb",
        "colab": {
          "base_uri": "https://localhost:8080/",
          "height": 34
        }
      },
      "source": [
        "print(cv2.__version__)"
      ],
      "execution_count": 26,
      "outputs": [
        {
          "output_type": "stream",
          "text": [
            "3.4.3\n"
          ],
          "name": "stdout"
        }
      ]
    },
    {
      "cell_type": "code",
      "metadata": {
        "id": "ixVPT0dyxpt7",
        "colab_type": "code",
        "colab": {}
      },
      "source": [
        "# images reading\n",
        "# image name, property\n",
        "myimg=np.zeros((512,512))\n",
        "img=cv2.imread('abc.png',1)"
      ],
      "execution_count": 0,
      "outputs": []
    },
    {
      "cell_type": "code",
      "metadata": {
        "id": "yHDB6Io1x_-V",
        "colab_type": "code",
        "outputId": "3b8b70bd-6709-49f7-8717-960c5bb37461",
        "colab": {
          "base_uri": "https://localhost:8080/",
          "height": 879
        }
      },
      "source": [
        "img"
      ],
      "execution_count": 36,
      "outputs": [
        {
          "output_type": "execute_result",
          "data": {
            "text/plain": [
              "array([[[242, 241, 239],\n",
              "        [242, 241, 239],\n",
              "        [242, 241, 239],\n",
              "        ...,\n",
              "        [242, 241, 239],\n",
              "        [242, 241, 239],\n",
              "        [242, 241, 239]],\n",
              "\n",
              "       [[242, 241, 239],\n",
              "        [242, 241, 239],\n",
              "        [242, 241, 239],\n",
              "        ...,\n",
              "        [242, 241, 239],\n",
              "        [242, 241, 239],\n",
              "        [242, 241, 239]],\n",
              "\n",
              "       [[242, 241, 239],\n",
              "        [242, 241, 239],\n",
              "        [242, 241, 239],\n",
              "        ...,\n",
              "        [242, 241, 239],\n",
              "        [242, 241, 239],\n",
              "        [242, 241, 239]],\n",
              "\n",
              "       ...,\n",
              "\n",
              "       [[242, 241, 239],\n",
              "        [242, 241, 239],\n",
              "        [242, 241, 239],\n",
              "        ...,\n",
              "        [242, 241, 239],\n",
              "        [242, 241, 239],\n",
              "        [242, 241, 239]],\n",
              "\n",
              "       [[242, 241, 239],\n",
              "        [242, 241, 239],\n",
              "        [242, 241, 239],\n",
              "        ...,\n",
              "        [242, 241, 239],\n",
              "        [242, 241, 239],\n",
              "        [242, 241, 239]],\n",
              "\n",
              "       [[242, 241, 239],\n",
              "        [242, 241, 239],\n",
              "        [242, 241, 239],\n",
              "        ...,\n",
              "        [242, 241, 239],\n",
              "        [242, 241, 239],\n",
              "        [242, 241, 239]]], dtype=uint8)"
            ]
          },
          "metadata": {
            "tags": []
          },
          "execution_count": 36
        }
      ]
    },
    {
      "cell_type": "code",
      "metadata": {
        "id": "r8E3CusOyBch",
        "colab_type": "code",
        "outputId": "72fb0099-9314-4c47-9135-1ce2330b43d5",
        "colab": {
          "base_uri": "https://localhost:8080/",
          "height": 34
        }
      },
      "source": [
        "type(img)"
      ],
      "execution_count": 37,
      "outputs": [
        {
          "output_type": "execute_result",
          "data": {
            "text/plain": [
              "numpy.ndarray"
            ]
          },
          "metadata": {
            "tags": []
          },
          "execution_count": 37
        }
      ]
    },
    {
      "cell_type": "code",
      "metadata": {
        "id": "RUUky46ZyqPP",
        "colab_type": "code",
        "colab": {}
      },
      "source": [
        "# split into BGR\n",
        "x,y,z=cv2.split(img)\n",
        "\n",
        "\n"
      ],
      "execution_count": 0,
      "outputs": []
    },
    {
      "cell_type": "code",
      "metadata": {
        "id": "D73D-OqjzAJH",
        "colab_type": "code",
        "outputId": "cf2ab2b0-2b55-4841-c422-01c40e478b75",
        "colab": {
          "base_uri": "https://localhost:8080/",
          "height": 618
        }
      },
      "source": [
        "# to draw a line in image\n",
        "cv2.line(img,(0,0),(150,160),(0,0,255),3)\n",
        "cv2.rectangle(img,(50,50),(100,110),(255,0,0),-1)\n",
        "cv2_imshow(img)"
      ],
      "execution_count": 42,
      "outputs": [
        {
          "output_type": "display_data",
          "data": {
            "image/png": "[encoded data removed]",
            "text/plain": [
              "<PIL.Image.Image image mode=RGB size=839x601 at 0x7F14421CDC88>"
            ]
          },
          "metadata": {
            "tags": []
          }
        }
      ]
    },
    {
      "cell_type": "code",
      "metadata": {
        "id": "k-VXStZx0NhP",
        "colab_type": "code",
        "outputId": "96811d07-8b72-44d3-f10a-8b8c838737ac",
        "colab": {
          "base_uri": "https://localhost:8080/",
          "height": 34
        }
      },
      "source": [
        "# wait for window to close\n",
        "cv2.waitKey(0) # mili/micro seconds"
      ],
      "execution_count": 43,
      "outputs": [
        {
          "output_type": "execute_result",
          "data": {
            "text/plain": [
              "-1"
            ]
          },
          "metadata": {
            "tags": []
          },
          "execution_count": 43
        }
      ]
    },
    {
      "cell_type": "code",
      "metadata": {
        "id": "MmMMjbk26SoG",
        "colab_type": "code",
        "colab": {}
      },
      "source": [
        ""
      ],
      "execution_count": 0,
      "outputs": []
    }
  ]
}