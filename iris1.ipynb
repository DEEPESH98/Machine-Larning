{
  "nbformat": 4,
  "nbformat_minor": 0,
  "metadata": {
    "colab": {
      "name": "Untitled13.ipynb",
      "version": "0.3.2",
      "provenance": [],
      "include_colab_link": true
    },
    "kernelspec": {
      "name": "python3",
      "display_name": "Python 3"
    }
  },
  "cells": [
    {
      "cell_type": "markdown",
      "metadata": {
        "id": "view-in-github",
        "colab_type": "text"
      },
      "source": [
        "<a href=\"https://colab.research.google.com/github/DEEPESH98/Machine-Larning/blob/master/iris1.ipynb\" target=\"_parent\"><img src=\"https://colab.research.google.com/assets/colab-badge.svg\" alt=\"Open In Colab\"/></a>"
      ]
    },
    {
      "cell_type": "code",
      "metadata": {
        "id": "RwS81xp1B_Dh",
        "colab_type": "code",
        "colab": {}
      },
      "source": [
        "from   sklearn.datasets   import   load_iris # first \n",
        "import  matplotlib.pyplot  as  plt\n",
        "from   sklearn.tree import  DecisionTreeClassifier\n",
        "from  sklearn.metrics import  accuracy_score"
      ],
      "execution_count": 0,
      "outputs": []
    },
    {
      "cell_type": "code",
      "metadata": {
        "id": "NIv4kvwKCE-H",
        "colab_type": "code",
        "colab": {}
      },
      "source": [
        "\n",
        "#  now loading   IRIS  data only \n",
        "iris=load_iris()\n",
        "print(iris)"
      ],
      "execution_count": 0,
      "outputs": []
    },
    {
      "cell_type": "code",
      "metadata": {
        "id": "HaeTaVixCJ2-",
        "colab_type": "code",
        "colab": {}
      },
      "source": [
        "dir(iris) #  eploring  variable"
      ],
      "execution_count": 0,
      "outputs": []
    },
    {
      "cell_type": "code",
      "metadata": {
        "id": "R01thhSpCMCx",
        "colab_type": "code",
        "colab": {}
      },
      "source": [
        "#iris.DESCR   these  are  features  names  \n",
        "iris.feature_names"
      ],
      "execution_count": 0,
      "outputs": []
    },
    {
      "cell_type": "code",
      "metadata": {
        "id": "RyQ65_tvCN6R",
        "colab_type": "code",
        "colab": {}
      },
      "source": [
        "\n",
        "#   lables  or  answer\n",
        "iris.target_names"
      ],
      "execution_count": 0,
      "outputs": []
    },
    {
      "cell_type": "code",
      "metadata": {
        "id": "Glx3D_hFCP5z",
        "colab_type": "code",
        "colab": {}
      },
      "source": [
        "#  actual  data  with  attributes  is\n",
        "features=iris.data\n",
        "#features.shape\n",
        "type(features)"
      ],
      "execution_count": 0,
      "outputs": []
    },
    {
      "cell_type": "code",
      "metadata": {
        "id": "fZc8TsqCCSXB",
        "colab_type": "code",
        "colab": {}
      },
      "source": [
        "\n",
        "#   now time for  label  data   that  will be exactly same as  number of featues  data\n",
        "label=iris.target\n",
        "print(label)\n",
        "label.shape"
      ],
      "execution_count": 0,
      "outputs": []
    },
    {
      "cell_type": "code",
      "metadata": {
        "id": "x9j-2y0bCUzW",
        "colab_type": "code",
        "colab": {}
      },
      "source": [
        "\n",
        "SL=features[0:,0]\n",
        "print(SL)"
      ],
      "execution_count": 0,
      "outputs": []
    },
    {
      "cell_type": "code",
      "metadata": {
        "id": "1b7p4vH-CWyf",
        "colab_type": "code",
        "colab": {}
      },
      "source": [
        "SW=features[0:,1]\n",
        "print(SW)"
      ],
      "execution_count": 0,
      "outputs": []
    },
    {
      "cell_type": "code",
      "metadata": {
        "id": "2ss1hz5uCaC_",
        "colab_type": "code",
        "colab": {}
      },
      "source": [
        "#import  matplotlib.pyplot  as  plt\n",
        "plt.xlabel(\"length\")\n",
        "plt.ylabel(\"width\")\n",
        "plt.scatter(SL,SW,label=\"sepal_data\",marker='*')\n",
        "plt.scatter(features[0:,2],features[0:,3],label=\"petal_data\",marker='x')\n",
        "plt.legend()"
      ],
      "execution_count": 0,
      "outputs": []
    },
    {
      "cell_type": "code",
      "metadata": {
        "id": "pA8bQ8CwCcP2",
        "colab_type": "code",
        "colab": {}
      },
      "source": [
        "#  now time  for seperating  data   into two category  \n",
        "# 1 . --training  data\n",
        "#  2. --testing  data -- Questions \n",
        "from   sklearn.model_selection   import  train_test_split\n",
        "train_data,test_data,label_train,label_test=train_test_split(features,label,test_size=0.1)"
      ],
      "execution_count": 0,
      "outputs": []
    },
    {
      "cell_type": "code",
      "metadata": {
        "id": "LtpW_x8mCgEd",
        "colab_type": "code",
        "colab": {}
      },
      "source": [
        "#  calling  decisiontree classifier \n",
        "#from   sklearn.tree import  DecisionTreeClassifier\n",
        "clf=DecisionTreeClassifier()"
      ],
      "execution_count": 0,
      "outputs": []
    },
    {
      "cell_type": "code",
      "metadata": {
        "id": "AyK05TGyCiEE",
        "colab_type": "code",
        "colab": {}
      },
      "source": [
        "#  now time for  training  clf \n",
        "trained=clf.fit(train_data,label_train)  ##################################3"
      ],
      "execution_count": 0,
      "outputs": []
    },
    {
      "cell_type": "code",
      "metadata": {
        "id": "11z8uVK9Ckay",
        "colab_type": "code",
        "colab": {}
      },
      "source": [
        "#  now predicting  flowers\n",
        "predicted_flowers=trained.predict(test_data)"
      ],
      "execution_count": 0,
      "outputs": []
    },
    {
      "cell_type": "code",
      "metadata": {
        "id": "ZelNAWytDkt_",
        "colab_type": "code",
        "colab": {}
      },
      "source": [
        ""
      ],
      "execution_count": 0,
      "outputs": []
    },
    {
      "cell_type": "code",
      "metadata": {
        "id": "9dzU2AQOCmqP",
        "colab_type": "code",
        "colab": {}
      },
      "source": [
        "predicted_flowers  #  algo answer"
      ],
      "execution_count": 0,
      "outputs": []
    },
    {
      "cell_type": "code",
      "metadata": {
        "id": "PYR6MCgwCp-i",
        "colab_type": "code",
        "colab": {}
      },
      "source": [
        "label_test#  actual answer"
      ],
      "execution_count": 0,
      "outputs": []
    },
    {
      "cell_type": "code",
      "metadata": {
        "id": "EMBKcsfUCtjR",
        "colab_type": "code",
        "colab": {}
      },
      "source": [
        "\n",
        "#  find  accuracy  score  \n",
        "#from  sklearn.metrics import  accuracy_score\n",
        "accuracy_score(label_test,predicted_flowers)"
      ],
      "execution_count": 0,
      "outputs": []
    },
    {
      "cell_type": "code",
      "metadata": {
        "id": "Plu6s7EuCv-o",
        "colab_type": "code",
        "colab": {}
      },
      "source": [
        ""
      ],
      "execution_count": 0,
      "outputs": []
    }
  ]
}