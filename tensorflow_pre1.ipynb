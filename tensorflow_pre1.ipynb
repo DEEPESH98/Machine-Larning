{
  "nbformat": 4,
  "nbformat_minor": 0,
  "metadata": {
    "colab": {
      "name": "Untitled51.ipynb",
      "version": "0.3.2",
      "provenance": [],
      "include_colab_link": true
    },
    "kernelspec": {
      "name": "python3",
      "display_name": "Python 3"
    }
  },
  "cells": [
    {
      "cell_type": "markdown",
      "metadata": {
        "id": "view-in-github",
        "colab_type": "text"
      },
      "source": [
        "<a href=\"https://colab.research.google.com/github/DEEPESH98/Machine-Larning/blob/master/tensorflow_pre1.ipynb\" target=\"_parent\"><img src=\"https://colab.research.google.com/assets/colab-badge.svg\" alt=\"Open In Colab\"/></a>"
      ]
    },
    {
      "cell_type": "code",
      "metadata": {
        "id": "PkI3mwhQk4OU",
        "colab_type": "code",
        "colab": {}
      },
      "source": [
        "import tensorflow as tf"
      ],
      "execution_count": 0,
      "outputs": []
    },
    {
      "cell_type": "code",
      "metadata": {
        "id": "MIB9CDPrk_JK",
        "colab_type": "code",
        "colab": {}
      },
      "source": [
        "#!pip3 list | grep -i tensorflow"
      ],
      "execution_count": 0,
      "outputs": []
    },
    {
      "cell_type": "code",
      "metadata": {
        "id": "6xAfEmhvlGBR",
        "colab_type": "code",
        "colab": {}
      },
      "source": [
        "# to assign fix value in tensorflow we need to define constant\n",
        "x=tf.constant(30)"
      ],
      "execution_count": 0,
      "outputs": []
    },
    {
      "cell_type": "code",
      "metadata": {
        "id": "NpBMZlhfmqEw",
        "colab_type": "code",
        "colab": {}
      },
      "source": [
        "x1=tf.constant([3,5,66,88]) # multi value constant"
      ],
      "execution_count": 0,
      "outputs": []
    },
    {
      "cell_type": "code",
      "metadata": {
        "id": "rnyHdMabm9LL",
        "colab_type": "code",
        "colab": {
          "base_uri": "https://localhost:8080/",
          "height": 34
        },
        "outputId": "5620ad4d-90d2-4843-bbc5-73e6936734b4"
      },
      "source": [
        "# type of x\n",
        "type(x)"
      ],
      "execution_count": 21,
      "outputs": [
        {
          "output_type": "execute_result",
          "data": {
            "text/plain": [
              "tensorflow.python.framework.ops.Tensor"
            ]
          },
          "metadata": {
            "tags": []
          },
          "execution_count": 21
        }
      ]
    },
    {
      "cell_type": "code",
      "metadata": {
        "id": "jiaPJaMUnA-h",
        "colab_type": "code",
        "colab": {}
      },
      "source": [
        "# y\n",
        "y=tf.constant(20)"
      ],
      "execution_count": 0,
      "outputs": []
    },
    {
      "cell_type": "code",
      "metadata": {
        "id": "-9oTf8Vcn5z5",
        "colab_type": "code",
        "colab": {}
      },
      "source": [
        "# equation\n",
        "z=x+y # new tensor --- z equation compile and store and wait for resource\n",
        "# CPU, GPU , TPU"
      ],
      "execution_count": 0,
      "outputs": []
    },
    {
      "cell_type": "code",
      "metadata": {
        "id": "ZfsqYfaHoJBd",
        "colab_type": "code",
        "colab": {
          "base_uri": "https://localhost:8080/",
          "height": 34
        },
        "outputId": "bdbb1df9-8ebc-4e89-a491-a2017a38e3d2"
      },
      "source": [
        "z"
      ],
      "execution_count": 24,
      "outputs": [
        {
          "output_type": "execute_result",
          "data": {
            "text/plain": [
              "<tf.Tensor 'add_2:0' shape=() dtype=int32>"
            ]
          },
          "metadata": {
            "tags": []
          },
          "execution_count": 24
        }
      ]
    },
    {
      "cell_type": "code",
      "metadata": {
        "id": "TER4sA8koJ1K",
        "colab_type": "code",
        "colab": {}
      },
      "source": [
        "# we have another matherd to add the same\n",
        "z1 = tf.add(x,y)"
      ],
      "execution_count": 0,
      "outputs": []
    },
    {
      "cell_type": "code",
      "metadata": {
        "id": "nhEZqfNTocEa",
        "colab_type": "code",
        "colab": {
          "base_uri": "https://localhost:8080/",
          "height": 34
        },
        "outputId": "6dc14d65-bb98-43da-8779-2a31c797ef4b"
      },
      "source": [
        "z1"
      ],
      "execution_count": 26,
      "outputs": [
        {
          "output_type": "execute_result",
          "data": {
            "text/plain": [
              "<tf.Tensor 'Add_3:0' shape=() dtype=int32>"
            ]
          },
          "metadata": {
            "tags": []
          },
          "execution_count": 26
        }
      ]
    },
    {
      "cell_type": "code",
      "metadata": {
        "id": "RN3C1QlqodCw",
        "colab_type": "code",
        "colab": {}
      },
      "source": [
        "# now time for assigning resource to our quuation\n",
        "sess=tf.Session() # connect CPU , GPU , TPU"
      ],
      "execution_count": 0,
      "outputs": []
    },
    {
      "cell_type": "code",
      "metadata": {
        "id": "mYGnnYfN0Pcm",
        "colab_type": "code",
        "colab": {}
      },
      "source": [
        "# now we can run our quation\n",
        "output=sess.run(z)"
      ],
      "execution_count": 0,
      "outputs": []
    },
    {
      "cell_type": "code",
      "metadata": {
        "id": "rhN8Dabn0Yqx",
        "colab_type": "code",
        "colab": {
          "base_uri": "https://localhost:8080/",
          "height": 34
        },
        "outputId": "2d3b4263-ed93-482b-cba8-c2bb8f008963"
      },
      "source": [
        "output"
      ],
      "execution_count": 33,
      "outputs": [
        {
          "output_type": "execute_result",
          "data": {
            "text/plain": [
              "50"
            ]
          },
          "metadata": {
            "tags": []
          },
          "execution_count": 33
        }
      ]
    },
    {
      "cell_type": "code",
      "metadata": {
        "id": "0GBCOo_p0Z3o",
        "colab_type": "code",
        "colab": {}
      },
      "source": [
        "#closing session\n",
        "sess.close()"
      ],
      "execution_count": 0,
      "outputs": []
    },
    {
      "cell_type": "code",
      "metadata": {
        "id": "m0dgjJhs0dx-",
        "colab_type": "code",
        "colab": {}
      },
      "source": [
        "#we can perfrom same task in another way where we don't have to close session\n",
        "with tf.Session() as sess:\n",
        "  output1=sess.run(z)\n",
        "  tf.summary.FileWriter(output1)\n",
        "  # tf.summary.FileWriter('graph',output1)# directery file name"
      ],
      "execution_count": 0,
      "outputs": []
    },
    {
      "cell_type": "code",
      "metadata": {
        "id": "DuHivEFQ0mjQ",
        "colab_type": "code",
        "colab": {
          "base_uri": "https://localhost:8080/",
          "height": 34
        },
        "outputId": "a46fa3ce-c0ea-4aea-f163-ad31d1d75cd8"
      },
      "source": [
        "output1"
      ],
      "execution_count": 40,
      "outputs": [
        {
          "output_type": "execute_result",
          "data": {
            "text/plain": [
              "50"
            ]
          },
          "metadata": {
            "tags": []
          },
          "execution_count": 40
        }
      ]
    },
    {
      "cell_type": "code",
      "metadata": {
        "id": "rqYIkm9I050B",
        "colab_type": "code",
        "colab": {
          "base_uri": "https://localhost:8080/",
          "height": 34
        },
        "outputId": "95ebc9c6-7e5f-43d1-e182-c03268659912"
      },
      "source": [
        "tf"
      ],
      "execution_count": 41,
      "outputs": [
        {
          "output_type": "execute_result",
          "data": {
            "text/plain": [
              "<module 'tensorflow' from '/usr/local/lib/python3.6/dist-packages/tensorflow/__init__.py'>"
            ]
          },
          "metadata": {
            "tags": []
          },
          "execution_count": 41
        }
      ]
    },
    {
      "cell_type": "code",
      "metadata": {
        "id": "VYDV0S4V11V2",
        "colab_type": "code",
        "colab": {}
      },
      "source": [
        "# placeholder\n",
        "\n",
        "# first place holder\n",
        "p1=tf.placeholder(tf.int32)"
      ],
      "execution_count": 0,
      "outputs": []
    },
    {
      "cell_type": "code",
      "metadata": {
        "id": "kapkuAj13o7T",
        "colab_type": "code",
        "colab": {}
      },
      "source": [
        "#placeholder 2\n",
        "p2=tf.placeholder(tf.int32)"
      ],
      "execution_count": 0,
      "outputs": []
    },
    {
      "cell_type": "code",
      "metadata": {
        "id": "I6XhVm_83xYe",
        "colab_type": "code",
        "colab": {}
      },
      "source": [
        "# adding values\n",
        "sum=tf.add(p1,p2)"
      ],
      "execution_count": 0,
      "outputs": []
    },
    {
      "cell_type": "code",
      "metadata": {
        "id": "SXKIkSOm34Kh",
        "colab_type": "code",
        "colab": {}
      },
      "source": [
        "# general\n",
        "sum1=p1+p2"
      ],
      "execution_count": 0,
      "outputs": []
    },
    {
      "cell_type": "code",
      "metadata": {
        "id": "8_BvAzyc4DTa",
        "colab_type": "code",
        "colab": {}
      },
      "source": [
        "# time for creating session\n",
        "with tf.Session() as sess:\n",
        "  output2=sess.run(sum1,{p1:[3,6],p2:[5,8]})"
      ],
      "execution_count": 0,
      "outputs": []
    },
    {
      "cell_type": "code",
      "metadata": {
        "id": "XJQjsT6E4c7R",
        "colab_type": "code",
        "colab": {
          "base_uri": "https://localhost:8080/",
          "height": 34
        },
        "outputId": "95395472-b6e5-44d2-ebbc-4c412d1f1b7c"
      },
      "source": [
        "output2"
      ],
      "execution_count": 50,
      "outputs": [
        {
          "output_type": "execute_result",
          "data": {
            "text/plain": [
              "array([ 8, 14], dtype=int32)"
            ]
          },
          "metadata": {
            "tags": []
          },
          "execution_count": 50
        }
      ]
    },
    {
      "cell_type": "code",
      "metadata": {
        "id": "kf2SzVuD4eS9",
        "colab_type": "code",
        "colab": {}
      },
      "source": [
        ""
      ],
      "execution_count": 0,
      "outputs": []
    }
  ]
}